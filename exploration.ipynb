{
 "cells": [
  {
   "cell_type": "markdown",
   "metadata": {},
   "source": [
    "### Import"
   ]
  },
  {
   "cell_type": "code",
   "execution_count": null,
   "metadata": {},
   "outputs": [],
   "source": [
    "from mistralai.client import MistralClient\n",
    "from mistralai.models.chat_completion import ChatMessage \n",
    "import os\n",
    "import pandas as pd\n",
    "import re"
   ]
  },
  {
   "cell_type": "markdown",
   "metadata": {},
   "source": [
    "#### Input data structure:"
   ]
  },
  {
   "cell_type": "code",
   "execution_count": null,
   "metadata": {},
   "outputs": [],
   "source": [
    "{'question': 'For every 12 ... ', 'answer': 'There are 144/12 = <<144/12=12>>12 ... \\n#### 12'}"
   ]
  },
  {
   "cell_type": "markdown",
   "metadata": {},
   "source": [
    "#### Ex 1:"
   ]
  },
  {
   "cell_type": "code",
   "execution_count": 36,
   "metadata": {},
   "outputs": [],
   "source": [
    "data = []\n",
    "\n",
    "with open('math_problems.jsonl', 'r', encoding='utf-8') as f_in:\n",
    "    for line in f_in:\n",
    "        data.append(eval(line))\n",
    "\n",
    "data_df = pd.DataFrame(data)\n",
    "data_df = data_df.explode(['question', 'answer'])"
   ]
  },
  {
   "cell_type": "code",
   "execution_count": 43,
   "metadata": {},
   "outputs": [],
   "source": [
    "data_df['target'] = data_df['answer'].apply(lambda x: x.split('####')[-1].strip())"
   ]
  },
  {
   "cell_type": "code",
   "execution_count": 44,
   "metadata": {},
   "outputs": [
    {
     "data": {
      "text/html": [
       "<div>\n",
       "<style scoped>\n",
       "    .dataframe tbody tr th:only-of-type {\n",
       "        vertical-align: middle;\n",
       "    }\n",
       "\n",
       "    .dataframe tbody tr th {\n",
       "        vertical-align: top;\n",
       "    }\n",
       "\n",
       "    .dataframe thead th {\n",
       "        text-align: right;\n",
       "    }\n",
       "</style>\n",
       "<table border=\"1\" class=\"dataframe\">\n",
       "  <thead>\n",
       "    <tr style=\"text-align: right;\">\n",
       "      <th></th>\n",
       "      <th>question</th>\n",
       "      <th>answer</th>\n",
       "      <th>target</th>\n",
       "    </tr>\n",
       "  </thead>\n",
       "  <tbody>\n",
       "    <tr>\n",
       "      <th>0</th>\n",
       "      <td>For every 12 cans you recycle, you receive $0....</td>\n",
       "      <td>There are 144/12 = &lt;&lt;144/12=12&gt;&gt;12 sets of 12 ...</td>\n",
       "      <td>12</td>\n",
       "    </tr>\n",
       "    <tr>\n",
       "      <th>1</th>\n",
       "      <td>Betty picked 16 strawberries. Matthew picked 2...</td>\n",
       "      <td>Matthew picked 16 + 20 = &lt;&lt;16+20=36&gt;&gt;36 strawb...</td>\n",
       "      <td>40</td>\n",
       "    </tr>\n",
       "    <tr>\n",
       "      <th>2</th>\n",
       "      <td>Jack has a stack of books that is 12 inches th...</td>\n",
       "      <td>There are 960 pages because 80 x 12 = &lt;&lt;80*12=...</td>\n",
       "      <td>160</td>\n",
       "    </tr>\n",
       "    <tr>\n",
       "      <th>3</th>\n",
       "      <td>James dumps his whole collection of 500 Legos ...</td>\n",
       "      <td>James starts with 500 Legos and uses half of t...</td>\n",
       "      <td>245</td>\n",
       "    </tr>\n",
       "    <tr>\n",
       "      <th>4</th>\n",
       "      <td>Ines had $20 in her purse. She bought 3 pounds...</td>\n",
       "      <td>Ines bought 3 pounds of peaches for 3 peaches ...</td>\n",
       "      <td>14</td>\n",
       "    </tr>\n",
       "  </tbody>\n",
       "</table>\n",
       "</div>"
      ],
      "text/plain": [
       "                                            question  \\\n",
       "0  For every 12 cans you recycle, you receive $0....   \n",
       "1  Betty picked 16 strawberries. Matthew picked 2...   \n",
       "2  Jack has a stack of books that is 12 inches th...   \n",
       "3  James dumps his whole collection of 500 Legos ...   \n",
       "4  Ines had $20 in her purse. She bought 3 pounds...   \n",
       "\n",
       "                                              answer target  \n",
       "0  There are 144/12 = <<144/12=12>>12 sets of 12 ...     12  \n",
       "1  Matthew picked 16 + 20 = <<16+20=36>>36 strawb...     40  \n",
       "2  There are 960 pages because 80 x 12 = <<80*12=...    160  \n",
       "3  James starts with 500 Legos and uses half of t...    245  \n",
       "4  Ines bought 3 pounds of peaches for 3 peaches ...     14  "
      ]
     },
     "execution_count": 44,
     "metadata": {},
     "output_type": "execute_result"
    }
   ],
   "source": [
    "data_df.head()"
   ]
  },
  {
   "cell_type": "code",
   "execution_count": null,
   "metadata": {},
   "outputs": [],
   "source": []
  },
  {
   "cell_type": "code",
   "execution_count": 57,
   "metadata": {},
   "outputs": [],
   "source": [
    "# Initialize the Mistral client with your API key\n",
    "MODEL = \"mistral-small\"\n",
    "TEMPERATURE = 0.0\n",
    "TOP_P = 1"
   ]
  },
  {
   "cell_type": "code",
   "execution_count": 58,
   "metadata": {},
   "outputs": [],
   "source": [
    "# Function to open and read the API key file\n",
    "def open_file(filepath):\n",
    "    with open(filepath, \"r\", encoding='utf-8') as infile:\n",
    "        return infile.read()\n",
    "\n",
    "# Function to interact with the Mistral API and get a response\n",
    "def get_mistral_response(user_content):\n",
    "    \n",
    "    # Load api key\n",
    "    api_key = open_file(\"mistral_api_key.txt\")\n",
    "    client = MistralClient(api_key=api_key)\n",
    "\n",
    "    # Prepare a List of ChatMessage objects with the user's content\n",
    "    messages = [ChatMessage(role=\"user\", content=user_content)]\n",
    "    \n",
    "    # Get the response from the Mistral API without streaming\n",
    "    chat_response = client.chat(\n",
    "        model=MODEL, \n",
    "        temperature=TEMPERATURE,\n",
    "        top_p=TOP_P,\n",
    "        messages=messages,\n",
    "\n",
    "        )\n",
    "    \n",
    "    try:\n",
    "        # Extract the content from the response\n",
    "        response_content = chat_response.choices[0].message.content if chat_response.choices else \"\" \n",
    "    except AttributeError as e:\n",
    "        print(f\"An error occurred while processing the response: {e}\")\n",
    "        response_content = \"\"\n",
    "    \n",
    "    # Return the response content\n",
    "    return response_content\n"
   ]
  },
  {
   "cell_type": "code",
   "execution_count": 46,
   "metadata": {},
   "outputs": [
    {
     "data": {
      "text/plain": [
       "{'question': 'For every 12 cans you recycle, you receive $0.50, and for every 5 kilograms of newspapers, you receive $1.50. If your family collected 144 cans and 20 kilograms of newspapers, how much money would you receive?',\n",
       " 'answer': 'There are 144/12 = <<144/12=12>>12 sets of 12 cans that the family collected.\\nSo, the family would receive $0.50 x 12 = $<<0.50*12=6>>6 for the cans.\\nThere are 20/5 = <<20/5=4>>4 sets of 5 kilograms of newspapers that the family collected.\\nSo, the family would receive $1.50 x 4 = $<<1.50*4=6>>6 for the newspapers.\\nTherefore, the family would receive a total of $6 + $6 = $<<6+6=12>>12.\\n#### 12'}"
      ]
     },
     "execution_count": 46,
     "metadata": {},
     "output_type": "execute_result"
    }
   ],
   "source": [
    "prompt = {'question': 'For every 12 cans you recycle, you receive $0.50, and for every 5 kilograms of newspapers, you receive $1.50. If your family collected 144 cans and 20 kilograms of newspapers, how much money would you receive?', 'answer': 'There are 144/12 = <<144/12=12>>12 sets of 12 cans that the family collected.\\nSo, the family would receive $0.50 x 12 = $<<0.50*12=6>>6 for the cans.\\nThere are 20/5 = <<20/5=4>>4 sets of 5 kilograms of newspapers that the family collected.\\nSo, the family would receive $1.50 x 4 = $<<1.50*4=6>>6 for the newspapers.\\nTherefore, the family would receive a total of $6 + $6 = $<<6+6=12>>12.\\n#### 12'}\n",
    "prompt"
   ]
  },
  {
   "cell_type": "code",
   "execution_count": 65,
   "metadata": {},
   "outputs": [
    {
     "name": "stdout",
     "output_type": "stream",
     "text": [
      "Full response:\n",
      "John gets 30 cans of soup for the price of 15 cans (buy 1 get one free).\n",
      "\n",
      "To find out how much John pays, we need to calculate the total cost of the 15 cans at their normal price of $0.60 each.\n",
      "\n",
      "Total cost = Number of cans * Price per can\n",
      "Total cost = 15 cans * $0.60/can\n",
      "Total cost = $9.00\n",
      "\n",
      "So, John pays $9.00 for 30 cans of soup.\n",
      "****************************************************************************************************\n",
      "Final result: \n",
      "9\n",
      "****************************************************************************************************\n",
      "Expected output: 9\n"
     ]
    }
   ],
   "source": [
    "N_RECORD = 10\n",
    "\n",
    "# Prompt\n",
    "# user_content = prompt['question']\n",
    "user_content = data_df.iloc[N_RECORD,0]\n",
    "\n",
    "# Result\n",
    "print(\"Full response:\")\n",
    "response = get_mistral_response(user_content)\n",
    "print (f\"{response}\")\n",
    "print('*'*100)\n",
    "print(\"Final result: \")\n",
    "new_prompt = 'Extract only one number which represent final result from the following text: ' + response\n",
    "response_sum = re.findall(r'\\d+', get_mistral_response(new_prompt))[0]\n",
    "print (f\"{response_sum}\")\n",
    "print('*'*100)\n",
    "print(f\"Expected output: {data_df.iloc[N_RECORD,2]}\")"
   ]
  },
  {
   "cell_type": "code",
   "execution_count": null,
   "metadata": {},
   "outputs": [],
   "source": []
  },
  {
   "cell_type": "markdown",
   "metadata": {},
   "source": [
    "### Ways to reach better performance:\n",
    "* Ensemble Method: involves combining the outputs of multiple models\n",
    "* ..."
   ]
  },
  {
   "cell_type": "markdown",
   "metadata": {},
   "source": []
  }
 ],
 "metadata": {
  "kernelspec": {
   "display_name": "mistralai",
   "language": "python",
   "name": "python3"
  },
  "language_info": {
   "codemirror_mode": {
    "name": "ipython",
    "version": 3
   },
   "file_extension": ".py",
   "mimetype": "text/x-python",
   "name": "python",
   "nbconvert_exporter": "python",
   "pygments_lexer": "ipython3",
   "version": "3.11.5"
  }
 },
 "nbformat": 4,
 "nbformat_minor": 2
}
